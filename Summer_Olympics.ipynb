{
  "nbformat": 4,
  "nbformat_minor": 0,
  "metadata": {
    "colab": {
      "name": "Summer Olympics.ipynb",
      "provenance": [],
      "collapsed_sections": []
    },
    "kernelspec": {
      "name": "python3",
      "display_name": "Python 3"
    },
    "language_info": {
      "name": "python"
    }
  },
  "cells": [
    {
      "cell_type": "markdown",
      "metadata": {
        "id": "Iu0BHeM0EcYO"
      },
      "source": [
        "**Summer Olympics By Sarthak Nahar**"
      ]
    },
    {
      "cell_type": "code",
      "metadata": {
        "id": "QAmImnbfDnEK"
      },
      "source": [
        "import numpy as np\n",
        "import pandas as pd\n",
        "from matplotlib import pyplot as plt\n",
        "\n",
        "df = pd.read_csv(\"summer.csv\")"
      ],
      "execution_count": 2,
      "outputs": []
    },
    {
      "cell_type": "markdown",
      "metadata": {
        "id": "zHWMAKuHEa5g"
      },
      "source": [
        "**Que 1.) In how many cities Summer Olympics is held so far?**"
      ]
    },
    {
      "cell_type": "code",
      "metadata": {
        "colab": {
          "base_uri": "https://localhost:8080/"
        },
        "id": "f3aFWYbbE6t0",
        "outputId": "bb6dfa84-73e1-4eef-eb2f-a76987485e08"
      },
      "source": [
        "City = []\n",
        "\n",
        "for city in df['City'].unique():\n",
        "    City.append(city)\n",
        "    \n",
        "len(City)"
      ],
      "execution_count": 3,
      "outputs": [
        {
          "output_type": "execute_result",
          "data": {
            "text/plain": [
              "22"
            ]
          },
          "metadata": {},
          "execution_count": 3
        }
      ]
    },
    {
      "cell_type": "markdown",
      "metadata": {
        "id": "MpkeBV4TFTUs"
      },
      "source": [
        "From the above output we can say that Summer Olympics is held in 22 cities so far."
      ]
    },
    {
      "cell_type": "markdown",
      "metadata": {
        "id": "9uJsUQ78FffK"
      },
      "source": [
        "**Que 2.) Which sport is having most number of Gold Medals so far? (Top 5)**"
      ]
    },
    {
      "cell_type": "code",
      "metadata": {
        "colab": {
          "base_uri": "https://localhost:8080/",
          "height": 508
        },
        "id": "QLDCLyWTFN6G",
        "outputId": "719f4964-0873-46bd-d95b-8456e154b4d2"
      },
      "source": [
        "medal = []\n",
        "\n",
        "for Sport in df['Sport'].unique():\n",
        "    medal.append([Sport, len(df.loc[(df['Medal']=='Gold') & (df['Sport']==Sport)])])\n",
        "    \n",
        "pd.DataFrame(medal,columns=['Sport','numberOfGoldMedal']).sort_values(by='numberOfGoldMedal', ascending=False).head().plot.bar(x='Sport',y='numberOfGoldMedal',figsize=(7,7))"
      ],
      "execution_count": 5,
      "outputs": [
        {
          "output_type": "execute_result",
          "data": {
            "text/plain": [
              "<matplotlib.axes._subplots.AxesSubplot at 0x7f44e75401d0>"
            ]
          },
          "metadata": {},
          "execution_count": 5
        },
        {
          "output_type": "display_data",
          "data": {
            "image/png": "[encoded data removed]",
            "text/plain": [
              "<Figure size 504x504 with 1 Axes>"
            ]
          },
          "metadata": {
            "needs_background": "light"
          }
        }
      ]
    },
    {
      "cell_type": "markdown",
      "metadata": {
        "id": "Fq6RbeYxFSCC"
      },
      "source": [
        "Above graph shows that Aquatics, Athletics, Rowing, Gymnastics and Fencing are the TOP 5 sports that are having most number of Gold medals. "
      ]
    },
    {
      "cell_type": "markdown",
      "metadata": {
        "id": "a0E4XTZWGx2-"
      },
      "source": [
        "**Que 3.) Which sport is having most number of medals so far? (Top 5)**"
      ]
    },
    {
      "cell_type": "code",
      "metadata": {
        "colab": {
          "base_uri": "https://localhost:8080/",
          "height": 508
        },
        "id": "k1wJqgsNG42D",
        "outputId": "700fe649-afe6-4e14-d6c4-6a9744693d51"
      },
      "source": [
        "medal=[]\n",
        "\n",
        "for Sport in df['Sport'].unique():\n",
        "    medal.append([Sport,len(df[df['Sport']==Sport])])\n",
        "    \n",
        "pd.DataFrame(medal,columns=['Sport','Medals']).sort_values(by='Medals',ascending=False).head().plot.bar(x='Sport',y='Medals',figsize=(7,7))"
      ],
      "execution_count": 8,
      "outputs": [
        {
          "output_type": "execute_result",
          "data": {
            "text/plain": [
              "<matplotlib.axes._subplots.AxesSubplot at 0x7f44e0f7a6d0>"
            ]
          },
          "metadata": {},
          "execution_count": 8
        },
        {
          "output_type": "display_data",
          "data": {
            "image/png": "[encoded data removed]",
            "text/plain": [
              "<Figure size 504x504 with 1 Axes>"
            ]
          },
          "metadata": {
            "needs_background": "light"
          }
        }
      ]
    },
    {
      "cell_type": "markdown",
      "metadata": {
        "id": "KxxAcUo9H57p"
      },
      "source": [
        "Above graph shows that Aquatics, Athletics, Rowing, Gymnastics and Fencing are the TOP 5 sports that are having most number of medals so far. "
      ]
    },
    {
      "cell_type": "markdown",
      "metadata": {
        "id": "MlVhdGakIL3K"
      },
      "source": [
        "**Que 4.) Which player has won most number of medals? (Top 5)**"
      ]
    },
    {
      "cell_type": "code",
      "metadata": {
        "colab": {
          "base_uri": "https://localhost:8080/",
          "height": 567
        },
        "id": "pkQQ7q-uHwzm",
        "outputId": "4dfc8235-d3d8-4c62-fefd-1926ff054860"
      },
      "source": [
        "data = []\n",
        "\n",
        "for Athlete in df['Athlete'].unique():\n",
        "    data.append([Athlete,len(df[df['Athlete']==Athlete])])\n",
        "    \n",
        "pd.DataFrame(data,columns=['Athlete','numberOfMedal']).sort_values(by='numberOfMedal',ascending=False).head().plot.bar(x='Athlete',y='numberOfMedal',figsize=(7,7))"
      ],
      "execution_count": 9,
      "outputs": [
        {
          "output_type": "execute_result",
          "data": {
            "text/plain": [
              "<matplotlib.axes._subplots.AxesSubplot at 0x7f44e0ef05d0>"
            ]
          },
          "metadata": {},
          "execution_count": 9
        },
        {
          "output_type": "display_data",
          "data": {
            "image/png": "[encoded data removed]",
            "text/plain": [
              "<Figure size 504x504 with 1 Axes>"
            ]
          },
          "metadata": {
            "needs_background": "light"
          }
        }
      ]
    },
    {
      "cell_type": "markdown",
      "metadata": {
        "id": "_ENt6t1ZJknX"
      },
      "source": [
        "Above graph displays the top 5 player who has won most number of medals."
      ]
    },
    {
      "cell_type": "markdown",
      "metadata": {
        "id": "aaBM6vY6IK7o"
      },
      "source": [
        "**Que 5.) Which player has won most number Gold Medals of medals? (Top 5)**"
      ]
    },
    {
      "cell_type": "code",
      "metadata": {
        "colab": {
          "base_uri": "https://localhost:8080/",
          "height": 534
        },
        "id": "f_1ECn3BIfz2",
        "outputId": "d15c33fd-d55c-477d-9928-84c4d14745b1"
      },
      "source": [
        "data = []\n",
        "\n",
        "for Athlete in df['Athlete'].unique():\n",
        "    data.append([Athlete,len(df.loc[(df['Athlete']==Athlete) & (df['Medal']=='Gold')])])\n",
        "    \n",
        "pd.DataFrame(data,columns=['Athlete','numberOfMedal']).sort_values(by='numberOfMedal',ascending=False).head().plot.bar(x='Athlete',y='numberOfMedal',figsize=(7,7))"
      ],
      "execution_count": 10,
      "outputs": [
        {
          "output_type": "execute_result",
          "data": {
            "text/plain": [
              "<matplotlib.axes._subplots.AxesSubplot at 0x7f44e16601d0>"
            ]
          },
          "metadata": {},
          "execution_count": 10
        },
        {
          "output_type": "display_data",
          "data": {
            "image/png": "[encoded data removed]",
            "text/plain": [
              "<Figure size 504x504 with 1 Axes>"
            ]
          },
          "metadata": {
            "needs_background": "light"
          }
        }
      ]
    },
    {
      "cell_type": "markdown",
      "metadata": {
        "id": "4V3jfCmfKTbQ"
      },
      "source": [
        "Above graph displays the top 5 player who has won most number of gold medals."
      ]
    },
    {
      "cell_type": "markdown",
      "metadata": {
        "id": "4hEP0ghRIgru"
      },
      "source": [
        "**Que 6.) In which year India won first Gold Medal in Summer Olympics?**"
      ]
    },
    {
      "cell_type": "code",
      "metadata": {
        "colab": {
          "base_uri": "https://localhost:8080/"
        },
        "id": "ldZl1NtmIm6I",
        "outputId": "838d3b2e-2dc2-49f9-aee0-9039e5cb7110"
      },
      "source": [
        "medal=[]\n",
        "for i in range(len(df)):\n",
        "  if(df['Country'][i]=='IND' and df['Medal'][i]=='Gold'):\n",
        "    medal.append(df['Year'][i]) \n",
        "print(medal[0])"
      ],
      "execution_count": 11,
      "outputs": [
        {
          "output_type": "stream",
          "name": "stdout",
          "text": [
            "1928\n"
          ]
        }
      ]
    },
    {
      "cell_type": "markdown",
      "metadata": {
        "id": "FJYQMBOXKos1"
      },
      "source": [
        "In 1928, India won first Gold Medal in Summer Olympics."
      ]
    },
    {
      "cell_type": "markdown",
      "metadata": {
        "id": "v1AwONjVInjl"
      },
      "source": [
        "**Que 7.) Which event is most popular in terms on number of players? (Top 5)**"
      ]
    },
    {
      "cell_type": "code",
      "metadata": {
        "colab": {
          "base_uri": "https://localhost:8080/",
          "height": 539
        },
        "id": "l1w1GPD5It5w",
        "outputId": "22451367-988f-401c-818d-472108f997aa"
      },
      "source": [
        "data = []\n",
        "\n",
        "for Event in df['Event'].unique():\n",
        "    data.append([Event, len(df[df['Event']==Event])])\n",
        "    \n",
        "pd.DataFrame(data,columns=['Event','numberOfPlayer']).sort_values(by='numberOfPlayer',ascending=False).head().plot.bar(x='Event',y='numberOfPlayer',figsize=(7,7))"
      ],
      "execution_count": 12,
      "outputs": [
        {
          "output_type": "execute_result",
          "data": {
            "text/plain": [
              "<matplotlib.axes._subplots.AxesSubplot at 0x7f44e0c11050>"
            ]
          },
          "metadata": {},
          "execution_count": 12
        },
        {
          "output_type": "display_data",
          "data": {
            "image/png": "[encoded data removed]",
            "text/plain": [
              "<Figure size 504x504 with 1 Axes>"
            ]
          },
          "metadata": {
            "needs_background": "light"
          }
        }
      ]
    },
    {
      "cell_type": "markdown",
      "metadata": {
        "id": "OnlF7G74K-T2"
      },
      "source": [
        "Above graph display the top 5 events which are most popular in terms of player."
      ]
    },
    {
      "cell_type": "markdown",
      "metadata": {
        "id": "6ZJM8-xTIujU"
      },
      "source": [
        "**Que 8.) Which sport is having most female Gold Medalists? (Top 5)**"
      ]
    },
    {
      "cell_type": "code",
      "metadata": {
        "colab": {
          "base_uri": "https://localhost:8080/",
          "height": 508
        },
        "id": "6afc6caWI3Wm",
        "outputId": "36539eb5-7642-4338-c03e-6ef4d1cdd8db"
      },
      "source": [
        "data = []\n",
        "\n",
        "for Sport in df['Sport'].unique():\n",
        "    data.append([Sport, len(df.loc[(df['Sport']==Sport) & (df['Gender']=='Women') & (df['Medal']=='Gold')])])\n",
        "    \n",
        "pd.DataFrame(data,columns=['Sport','numberFemaleAthlete']).sort_values(by='numberFemaleAthlete', ascending=False).head().plot.bar(x='Sport',y='numberFemaleAthlete',figsize=(7,7))"
      ],
      "execution_count": 13,
      "outputs": [
        {
          "output_type": "execute_result",
          "data": {
            "text/plain": [
              "<matplotlib.axes._subplots.AxesSubplot at 0x7f44e0c3f150>"
            ]
          },
          "metadata": {},
          "execution_count": 13
        },
        {
          "output_type": "display_data",
          "data": {
            "image/png": "[encoded data removed]",
            "text/plain": [
              "<Figure size 504x504 with 1 Axes>"
            ]
          },
          "metadata": {
            "needs_background": "light"
          }
        }
      ]
    },
    {
      "cell_type": "markdown",
      "metadata": {
        "id": "REh1lTSzLVaL"
      },
      "source": [
        "Above graph displays the sports in which most female Gold Medalist."
      ]
    },
    {
      "cell_type": "code",
      "metadata": {
        "id": "XcQ4KWpfLT-2"
      },
      "source": [
        ""
      ],
      "execution_count": null,
      "outputs": []
    }
  ]
}